{
 "cells": [
  {
   "cell_type": "code",
   "execution_count": 1,
   "id": "206e050e-5a84-44ef-b4b7-71e48c02f4d4",
   "metadata": {},
   "outputs": [],
   "source": [
    "import cv2\n",
    "import numpy as np\n",
    "import sys\n",
    "import os\n",
    "import glob\n",
    "import shutil"
   ]
  },
  {
   "cell_type": "code",
   "execution_count": null,
   "id": "abfe55dc-874b-40a4-a4dd-0ff499abd150",
   "metadata": {},
   "outputs": [],
   "source": []
  },
  {
   "cell_type": "code",
   "execution_count": 2,
   "id": "d0a05448-7023-4a10-9bae-072fff543d58",
   "metadata": {},
   "outputs": [],
   "source": [
    "def decoupe(folder_slicing):\n",
    "    img_size = 32\n",
    "    step = 8\n",
    "    k = 1\n",
    "    folder_base = \"C:/Users/nicop/Python Jupyter/CS 1A/EI/Auto_encoder_v4/images_train\"\n",
    "    if os.path.exists(folder_base):\n",
    "        shutil.rmtree(folder_base)\n",
    "\n",
    "    os.mkdir(folder_base)\n",
    "    folder_path = os.path.join(folder_slicing, '*.*')\n",
    "    list_images = glob.glob(folder_path)\n",
    "\n",
    "\n",
    "    \n",
    "    for file in list_images:\n",
    "        img_name = os.path.basename(file)\n",
    "        folder = folder_base + \"/\" + img_name[0]\n",
    "        print(folder + img_name)\n",
    "        os.mkdir(folder)\n",
    "\n",
    "        x, y = 0, 0\n",
    "        img = cv2.imread(folder_slicing +\"/\"+ img_name)\n",
    "        width = len(img[0])\n",
    "        height = len(img)\n",
    "         \n",
    "        while x + img_size < width :#and :k < 10:\n",
    "            while y + img_size < height :#and k < 10 :\n",
    "\n",
    "                new_img = img[y:y+img_size, x:x+img_size]\n",
    "                cv2.imwrite(folder +\"/\"+ \"img_\" + str(k) + img_name[0] +  \".jpg\", new_img)\n",
    "                y = y + step\n",
    "                k = k + 1\n",
    "            x = x + step\n",
    "            y = 0\n",
    "\n"
   ]
  },
  {
   "cell_type": "code",
   "execution_count": 3,
   "id": "cad89a02-9d11-43f2-9c52-f787ea82d8e7",
   "metadata": {},
   "outputs": [
    {
     "name": "stdout",
     "output_type": "stream",
     "text": [
      "C:/Users/nicop/Python Jupyter/CS 1A/EI/Auto_encoder_v4/images_train/AA.png\n",
      "C:/Users/nicop/Python Jupyter/CS 1A/EI/Auto_encoder_v4/images_train/BB.png\n",
      "C:/Users/nicop/Python Jupyter/CS 1A/EI/Auto_encoder_v4/images_train/CC.jpg\n",
      "C:/Users/nicop/Python Jupyter/CS 1A/EI/Auto_encoder_v4/images_train/DD.jpg\n",
      "C:/Users/nicop/Python Jupyter/CS 1A/EI/Auto_encoder_v4/images_train/EE.jpg\n",
      "C:/Users/nicop/Python Jupyter/CS 1A/EI/Auto_encoder_v4/images_train/FF.jpg\n",
      "C:/Users/nicop/Python Jupyter/CS 1A/EI/Auto_encoder_v4/images_train/GG.jpg\n",
      "C:/Users/nicop/Python Jupyter/CS 1A/EI/Auto_encoder_v4/images_train/HH.jpg\n",
      "C:/Users/nicop/Python Jupyter/CS 1A/EI/Auto_encoder_v4/images_train/II.jpg\n",
      "C:/Users/nicop/Python Jupyter/CS 1A/EI/Auto_encoder_v4/images_train/JJ.jpg\n",
      "C:/Users/nicop/Python Jupyter/CS 1A/EI/Auto_encoder_v4/images_train/KK.jpg\n",
      "C:/Users/nicop/Python Jupyter/CS 1A/EI/Auto_encoder_v4/images_train/LL.png\n"
     ]
    }
   ],
   "source": [
    "decoupe(\"images_for_slicing\")"
   ]
  },
  {
   "cell_type": "code",
   "execution_count": null,
   "id": "4438f55d-8620-4dc2-b705-296532cb2423",
   "metadata": {},
   "outputs": [],
   "source": []
  },
  {
   "cell_type": "code",
   "execution_count": null,
   "id": "0e69ecc6-3f18-43da-8b07-c5e16201bb88",
   "metadata": {},
   "outputs": [],
   "source": []
  },
  {
   "cell_type": "code",
   "execution_count": null,
   "id": "9e796ef3-d301-4373-a80d-44d825baba97",
   "metadata": {},
   "outputs": [],
   "source": []
  },
  {
   "cell_type": "code",
   "execution_count": null,
   "id": "cf8f6532-9b78-4562-bae1-1ffbbd871f17",
   "metadata": {},
   "outputs": [],
   "source": []
  }
 ],
 "metadata": {
  "kernelspec": {
   "display_name": "Python 3 (ipykernel)",
   "language": "python",
   "name": "python3"
  },
  "language_info": {
   "codemirror_mode": {
    "name": "ipython",
    "version": 3
   },
   "file_extension": ".py",
   "mimetype": "text/x-python",
   "name": "python",
   "nbconvert_exporter": "python",
   "pygments_lexer": "ipython3",
   "version": "3.8.18"
  }
 },
 "nbformat": 4,
 "nbformat_minor": 5
}
