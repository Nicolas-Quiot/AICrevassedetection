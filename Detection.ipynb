{
 "cells": [
  {
   "cell_type": "code",
   "execution_count": 1,
   "id": "c616580d-3e5b-460d-afb3-7d2ceee753e2",
   "metadata": {},
   "outputs": [],
   "source": [
    "import cv2\n",
    "import numpy as np\n",
    "import keras\n",
    "import matplotlib.pyplot as plt\n",
    "import os\n",
    "import glob"
   ]
  },
  {
   "cell_type": "code",
   "execution_count": 2,
   "id": "a159b8ae-c8a2-4fe8-bd7c-3fe4c5681f96",
   "metadata": {},
   "outputs": [],
   "source": [
    "model = keras.models.load_model(\"conv_autoencoder_model_v4.h5\", compile = False)\n",
    "model.compile()"
   ]
  },
  {
   "cell_type": "code",
   "execution_count": 13,
   "id": "e508ecfc-f427-4f23-b39a-56d6c67ada29",
   "metadata": {},
   "outputs": [],
   "source": [
    "def detect(save=False , detection_folder = \"\",detected_folder = \"\" , file_name=\"\", threshold = 0.0019):\n",
    "    if save:\n",
    "        file_out = detected_folder + \"/\" + file_name\n",
    "    file_in = detection_folder + \"/\" + file_name\n",
    "    x, y = 0, 0\n",
    "    img = cv2.imread(file_in)\n",
    "    clear = cv2.fastNlMeansDenoisingColored(img,None,10,10,7,21)\n",
    "\n",
    "    width = len(img[0])\n",
    "    height = len(img)\n",
    "    while x + 32 < width:\n",
    "        while y + 32 < height:\n",
    "            img_part = clear[y:y+32, x:x+32]\n",
    "            recon_part = model(img_part[np.newaxis, :,  :, :])\n",
    "            recon_part = np.array(recon_part)\n",
    "            for i in range(32):\n",
    "                for j in range(32):\n",
    "                    if (np.sum(np.square(img_part[i][j]-recon_part[0][i][j])/(3*255*255))) > threshold:\n",
    "                        img[y+i][x+j] = [0, 0, 255]\n",
    "\n",
    "            y = y + 32\n",
    "        x = x + 32\n",
    "        y = 0\n",
    "    \n",
    "    #cv2.imwrite(file_out, img)\n",
    "    \"\"\"\n",
    "    #cv2.imshow(\"reconstruted\", img) show image\n",
    "    k = cv2.waitKey(0)\n",
    "    if k == 27:         # wait for ESC key to exit\n",
    "        cv2.destroyAllWindows()\n",
    "    elif k == ord('s') and save:  # wait for 's' key to save and exit\n",
    "        \n",
    "        cv2.destroyAllWindows()\n",
    "    #return(img)\n",
    "    \"\"\""
   ]
  },
  {
   "cell_type": "code",
   "execution_count": 14,
   "id": "d03dd9f0-93bf-4a2c-8ffa-8ef100131858",
   "metadata": {},
   "outputs": [],
   "source": [
    "def detect_folder(folder,detected_folder):\n",
    "    T = 0.001\n",
    "    folder_path = os.path.join(folder, '*.*')\n",
    "    list_images = glob.glob(folder_path)\n",
    "    for file in list_images:\n",
    "        img_name = os.path.basename(file)\n",
    "        if not os.path.exists(detected_folder + \"/\" + img_name):\n",
    "            print(img_name)\n",
    "            detect(save=True , detection_folder = folder, detected_folder = detected_folder , file_name = img_name , threshold = T)\n",
    "        \n",
    "    "
   ]
  },
  {
   "cell_type": "code",
   "execution_count": 15,
   "id": "720da037-21ae-49fe-a9dd-ee1d8b7ce750",
   "metadata": {},
   "outputs": [],
   "source": [
    "detect_folder(\"images_for_detection\",\"images_detected\")"
   ]
  },
  {
   "cell_type": "code",
   "execution_count": null,
   "id": "b79d99f6-bfc1-4fa4-b9f1-7eaa0d6a6ff5",
   "metadata": {},
   "outputs": [],
   "source": []
  },
  {
   "cell_type": "code",
   "execution_count": null,
   "id": "27a503b0-63ee-43cf-8de0-39d3b70983cb",
   "metadata": {},
   "outputs": [],
   "source": []
  },
  {
   "cell_type": "code",
   "execution_count": null,
   "id": "9e6ebcf3-5a58-4094-a8b1-910854970e4e",
   "metadata": {},
   "outputs": [],
   "source": []
  },
  {
   "cell_type": "code",
   "execution_count": null,
   "id": "09ca79b0-40ab-462a-8e4e-7f735e33dce7",
   "metadata": {},
   "outputs": [],
   "source": []
  },
  {
   "cell_type": "code",
   "execution_count": null,
   "id": "efed7a5e-5474-497f-9784-c37f76c6b60b",
   "metadata": {},
   "outputs": [],
   "source": []
  }
 ],
 "metadata": {
  "kernelspec": {
   "display_name": "Python 3 (ipykernel)",
   "language": "python",
   "name": "python3"
  },
  "language_info": {
   "codemirror_mode": {
    "name": "ipython",
    "version": 3
   },
   "file_extension": ".py",
   "mimetype": "text/x-python",
   "name": "python",
   "nbconvert_exporter": "python",
   "pygments_lexer": "ipython3",
   "version": "3.8.18"
  }
 },
 "nbformat": 4,
 "nbformat_minor": 5
}
