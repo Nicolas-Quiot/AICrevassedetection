{
 "cells": [
  {
   "cell_type": "code",
   "execution_count": 1,
   "id": "4f6a4750-0fb3-4f9c-9488-ecdaa8a634df",
   "metadata": {},
   "outputs": [],
   "source": [
    "import numpy as np\n",
    "import tensorflow as tf\n",
    "import keras\n",
    "from keras import layers\n",
    "from keras.layers import Conv2D\n",
    "from keras.layers import Input\n",
    "from keras.layers import MaxPooling2D, UpSampling2D\n",
    "from keras.models import Model\n",
    "from numpy import reshape\n",
    "import matplotlib.pyplot as plt"
   ]
  },
  {
   "cell_type": "code",
   "execution_count": 2,
   "id": "386cc47e-8f55-4e0c-bfc7-600a86b62014",
   "metadata": {},
   "outputs": [
    {
     "name": "stdout",
     "output_type": "stream",
     "text": [
      "Found 176066 files belonging to 12 classes.\n"
     ]
    }
   ],
   "source": [
    "dir = \"images_train\"\n",
    "xtrain = tf.keras.utils.image_dataset_from_directory(\n",
    "    directory = dir,\n",
    "    labels=\"inferred\",\n",
    "    label_mode=\"int\",\n",
    "    class_names=['A','B','C','D','E','F','G','H','I','J','K','L'],\n",
    "    color_mode=\"rgb\",\n",
    "    batch_size=32,\n",
    "    image_size=(32, 32),\n",
    "    shuffle=True,\n",
    "    seed=None,\n",
    "    validation_split=None,\n",
    "    subset=None,\n",
    "    interpolation=\"bilinear\",\n",
    "    follow_links=False,\n",
    "    crop_to_aspect_ratio=False,\n",
    "    \n",
    ")"
   ]
  },
  {
   "cell_type": "code",
   "execution_count": 3,
   "id": "4482029b-7063-4fc7-bdd6-b5f13f79c569",
   "metadata": {},
   "outputs": [],
   "source": [
    "def resize_image(x):\n",
    "    return tf.image.resize(x, (32, 32))\n",
    "\n",
    "# Redimensionnement des images après les avoir extraites du dataset\n",
    "auto_train = xtrain.map(lambda x,y: (x, x))\n",
    "auto_train = auto_train.map(lambda x, y: (resize_image(x), resize_image(x)))\n",
    "\n",
    "\n",
    "\n",
    "input_img = Input(shape=(32, 32, 3))\n",
    "\n",
    "enc_conv1 = Conv2D(12, (3, 3), activation='relu', padding='same')(input_img)\n",
    "enc_pool1 = MaxPooling2D((2, 2), padding='same')(enc_conv1)\n",
    "enc_conv2 = Conv2D(10, (4, 4), activation='relu', padding='same')(enc_pool1)\n",
    "enc_pool2 = MaxPooling2D((4, 4), padding='same')(enc_conv2)\n",
    "enc_conv3 = Conv2D(8, (4, 4), activation='relu', padding='same')(enc_pool2)\n",
    "enc_ouput = MaxPooling2D((4, 4), padding='same')(enc_conv2)\n",
    "\n",
    "dec_conv2 = Conv2D(8, (4, 4), activation='relu', padding='same')(enc_ouput)\n",
    "dec_upsample2 = UpSampling2D((4, 4))(dec_conv2)\n",
    "dec_conv3 = Conv2D(12, (3, 3), activation='relu', padding='same')(dec_upsample2)\n",
    "dec_upsample3 = UpSampling2D((2, 2))(dec_conv3)\n",
    "dec_conv4 = Conv2D(10, (3, 3), activation='relu', padding='same')(dec_upsample3)\n",
    "dec_upsample4 = UpSampling2D((2, 2))(dec_conv3)\n",
    "dec_output = Conv2D(3, (3, 3), activation='relu', padding='same')(dec_upsample4)"
   ]
  },
  {
   "cell_type": "code",
   "execution_count": 4,
   "id": "9728557d-d390-4887-bd0a-0d2aa09c077a",
   "metadata": {},
   "outputs": [
    {
     "name": "stdout",
     "output_type": "stream",
     "text": [
      "Model: \"model\"\n",
      "_________________________________________________________________\n",
      " Layer (type)                Output Shape              Param #   \n",
      "=================================================================\n",
      " input_1 (InputLayer)        [(None, 32, 32, 3)]       0         \n",
      "                                                                 \n",
      " conv2d (Conv2D)             (None, 32, 32, 12)        336       \n",
      "                                                                 \n",
      " max_pooling2d (MaxPooling2  (None, 16, 16, 12)        0         \n",
      " D)                                                              \n",
      "                                                                 \n",
      " conv2d_1 (Conv2D)           (None, 16, 16, 10)        1930      \n",
      "                                                                 \n",
      " max_pooling2d_2 (MaxPoolin  (None, 4, 4, 10)          0         \n",
      " g2D)                                                            \n",
      "                                                                 \n",
      " conv2d_3 (Conv2D)           (None, 4, 4, 8)           1288      \n",
      "                                                                 \n",
      " up_sampling2d (UpSampling2  (None, 16, 16, 8)         0         \n",
      " D)                                                              \n",
      "                                                                 \n",
      " conv2d_4 (Conv2D)           (None, 16, 16, 12)        876       \n",
      "                                                                 \n",
      " up_sampling2d_2 (UpSamplin  (None, 32, 32, 12)        0         \n",
      " g2D)                                                            \n",
      "                                                                 \n",
      " conv2d_6 (Conv2D)           (None, 32, 32, 3)         327       \n",
      "                                                                 \n",
      "=================================================================\n",
      "Total params: 4757 (18.58 KB)\n",
      "Trainable params: 4757 (18.58 KB)\n",
      "Non-trainable params: 0 (0.00 Byte)\n",
      "_________________________________________________________________\n"
     ]
    }
   ],
   "source": [
    "autoencoder = Model(input_img, dec_output)\n",
    "autoencoder.compile(optimizer='adam', loss='mean_squared_error')\n",
    "autoencoder.summary()"
   ]
  },
  {
   "cell_type": "code",
   "execution_count": 5,
   "id": "08922acf-3d13-4136-8b69-bba2cb1fb50b",
   "metadata": {},
   "outputs": [
    {
     "name": "stdout",
     "output_type": "stream",
     "text": [
      "Epoch 1/3\n",
      "5503/5503 [==============================] - 380s 69ms/step - loss: 296.3689\n",
      "Epoch 2/3\n",
      "5503/5503 [==============================] - 205s 37ms/step - loss: 166.3442\n",
      "Epoch 3/3\n",
      "5503/5503 [==============================] - 206s 37ms/step - loss: 156.0096\n"
     ]
    },
    {
     "data": {
      "text/plain": [
       "<keras.src.callbacks.History at 0x23a78a3ad60>"
      ]
     },
     "execution_count": 5,
     "metadata": {},
     "output_type": "execute_result"
    }
   ],
   "source": [
    "autoencoder.fit(auto_train, epochs=3, batch_size=128, shuffle=True)"
   ]
  },
  {
   "cell_type": "code",
   "execution_count": 6,
   "id": "7bd994b2-136d-4a72-b680-fe198322c905",
   "metadata": {},
   "outputs": [
    {
     "name": "stderr",
     "output_type": "stream",
     "text": [
      "C:\\Users\\nicop\\anaconda3\\envs\\tensorflow\\lib\\site-packages\\keras\\src\\engine\\training.py:3000: UserWarning: You are saving your model as an HDF5 file via `model.save()`. This file format is considered legacy. We recommend using instead the native Keras format, e.g. `model.save('my_model.keras')`.\n",
      "  saving_api.save_model(\n"
     ]
    }
   ],
   "source": [
    "autoencoder.save('conv_autoencoder_model_v4.h5')"
   ]
  },
  {
   "cell_type": "code",
   "execution_count": null,
   "id": "e51f6984-bf33-4d93-a7e8-3539378cdf4c",
   "metadata": {},
   "outputs": [],
   "source": []
  }
 ],
 "metadata": {
  "kernelspec": {
   "display_name": "Python 3 (ipykernel)",
   "language": "python",
   "name": "python3"
  },
  "language_info": {
   "codemirror_mode": {
    "name": "ipython",
    "version": 3
   },
   "file_extension": ".py",
   "mimetype": "text/x-python",
   "name": "python",
   "nbconvert_exporter": "python",
   "pygments_lexer": "ipython3",
   "version": "3.8.18"
  }
 },
 "nbformat": 4,
 "nbformat_minor": 5
}
